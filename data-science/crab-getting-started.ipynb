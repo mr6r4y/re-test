{
 "cells": [
  {
   "cell_type": "markdown",
   "metadata": {},
   "source": [
    "# [Crab](http://muricoca.github.io/crab/tutorial.html) - Getting Started"
   ]
  },
  {
   "cell_type": "code",
   "execution_count": 1,
   "metadata": {},
   "outputs": [],
   "source": [
    "from scikits.crab import datasets\n",
    "movies = datasets.load_sample_movies()\n",
    "songs = datasets.load_sample_songs()"
   ]
  },
  {
   "cell_type": "code",
   "execution_count": 2,
   "metadata": {},
   "outputs": [
    {
     "data": {
      "text/plain": [
       "{1: 'Jack Matthews',\n",
       " 2: 'Mick LaSalle',\n",
       " 3: 'Claudia Puig',\n",
       " 4: 'Lisa Rose',\n",
       " 5: 'Toby',\n",
       " 6: 'Gene Seymour',\n",
       " 7: 'Michael Phillips'}"
      ]
     },
     "execution_count": 2,
     "metadata": {},
     "output_type": "execute_result"
    }
   ],
   "source": [
    "movies[\"user_ids\"]"
   ]
  },
  {
   "cell_type": "code",
   "execution_count": 3,
   "metadata": {},
   "outputs": [
    {
     "data": {
      "text/plain": [
       "{1: 'Lady in the Water',\n",
       " 2: 'Snakes on a Planet',\n",
       " 3: 'You, Me and Dupree',\n",
       " 4: 'Superman Returns',\n",
       " 5: 'The Night Listener',\n",
       " 6: 'Just My Luck'}"
      ]
     },
     "execution_count": 3,
     "metadata": {},
     "output_type": "execute_result"
    }
   ],
   "source": [
    "movies[\"item_ids\"]"
   ]
  },
  {
   "cell_type": "code",
   "execution_count": 4,
   "metadata": {},
   "outputs": [
    {
     "ename": "ImportError",
     "evalue": "No module named crab.recommenders.knn",
     "output_type": "error",
     "traceback": [
      "\u001b[0;31m---------------------------------------------------------------------------\u001b[0m",
      "\u001b[0;31mImportError\u001b[0m                               Traceback (most recent call last)",
      "\u001b[0;32m<ipython-input-4-e7b8e14f5f13>\u001b[0m in \u001b[0;36m<module>\u001b[0;34m()\u001b[0m\n\u001b[1;32m     10\u001b[0m \u001b[0msimilarity\u001b[0m \u001b[0;34m=\u001b[0m \u001b[0mUserSimilarity\u001b[0m\u001b[0;34m(\u001b[0m\u001b[0mmodel\u001b[0m\u001b[0;34m,\u001b[0m \u001b[0mpearson_correlation\u001b[0m\u001b[0;34m)\u001b[0m\u001b[0;34m\u001b[0m\u001b[0m\n\u001b[1;32m     11\u001b[0m \u001b[0;34m\u001b[0m\u001b[0m\n\u001b[0;32m---> 12\u001b[0;31m \u001b[0;32mfrom\u001b[0m \u001b[0mcrab\u001b[0m\u001b[0;34m.\u001b[0m\u001b[0mrecommenders\u001b[0m\u001b[0;34m.\u001b[0m\u001b[0mknn\u001b[0m \u001b[0;32mimport\u001b[0m \u001b[0mUserBasedRecommender\u001b[0m\u001b[0;34m\u001b[0m\u001b[0m\n\u001b[0m\u001b[1;32m     13\u001b[0m \u001b[0;34m\u001b[0m\u001b[0m\n\u001b[1;32m     14\u001b[0m \u001b[0;31m#Build the User based recommender\u001b[0m\u001b[0;34m\u001b[0m\u001b[0;34m\u001b[0m\u001b[0m\n",
      "\u001b[0;31mImportError\u001b[0m: No module named crab.recommenders.knn"
     ]
    }
   ],
   "source": [
    "from scikits.crab.models import MatrixPreferenceDataModel\n",
    "\n",
    "#Build the model\n",
    "model = MatrixPreferenceDataModel(movies.data)\n",
    "\n",
    "from scikits.crab.metrics import pearson_correlation\n",
    "from scikits.crab.similarities import UserSimilarity\n",
    "\n",
    "#Build the similarity\n",
    "similarity = UserSimilarity(model, pearson_correlation)\n",
    "\n",
    "from crab.recommenders.knn import UserBasedRecommender\n",
    "\n",
    "#Build the User based recommender\n",
    "recommender = UserBasedRecommender(model, similarity, with_preference=True)\n",
    "\n",
    "#Recommend items for the user 5 (Toby)\n",
    "recommender.recommend(5)"
   ]
  },
  {
   "cell_type": "markdown",
   "metadata": {},
   "source": [
    "## Conclusion\n",
    "\n",
    "Let's go with [Surprise](http://surpriselib.com/)"
   ]
  }
 ],
 "metadata": {
  "kernelspec": {
   "display_name": "Python 2",
   "language": "python",
   "name": "python2"
  },
  "language_info": {
   "codemirror_mode": {
    "name": "ipython",
    "version": 2
   },
   "file_extension": ".py",
   "mimetype": "text/x-python",
   "name": "python",
   "nbconvert_exporter": "python",
   "pygments_lexer": "ipython2",
   "version": "2.7.12"
  }
 },
 "nbformat": 4,
 "nbformat_minor": 2
}
